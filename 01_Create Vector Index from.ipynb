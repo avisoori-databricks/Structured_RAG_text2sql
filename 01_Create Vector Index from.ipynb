{
 "cells": [
  {
   "cell_type": "code",
   "execution_count": 0,
   "metadata": {
    "application/vnd.databricks.v1+cell": {
     "cellMetadata": {
      "byteLimit": 2048000,
      "rowLimit": 10000
     },
     "inputWidgets": {},
     "nuid": "d1882efa-5687-43fb-b27c-6303e88a1160",
     "showTitle": false,
     "title": ""
    }
   },
   "outputs": [
    {
     "output_type": "stream",
     "name": "stdout",
     "output_type": "stream",
     "text": [
      "\u001B[43mNote: you may need to restart the kernel using dbutils.library.restartPython() to use updated packages.\u001B[0m\nCollecting databricks-vectorsearch-preview\n  Downloading databricks_vectorsearch_preview-0.21-py3-none-any.whl (7.3 kB)\nRequirement already satisfied: requests>=2 in /databricks/python3/lib/python3.10/site-packages (from databricks-vectorsearch-preview) (2.28.1)\nRequirement already satisfied: protobuf<5,>=3.12.0 in /databricks/python3/lib/python3.10/site-packages (from databricks-vectorsearch-preview) (4.24.0)\nRequirement already satisfied: mlflow-skinny<3,>=2.4.0 in /databricks/python3/lib/python3.10/site-packages (from databricks-vectorsearch-preview) (2.5.0)\nRequirement already satisfied: gitpython<4,>=2.1.0 in /databricks/python3/lib/python3.10/site-packages (from mlflow-skinny<3,>=2.4.0->databricks-vectorsearch-preview) (3.1.27)\nRequirement already satisfied: cloudpickle<3 in /databricks/python3/lib/python3.10/site-packages (from mlflow-skinny<3,>=2.4.0->databricks-vectorsearch-preview) (2.0.0)\nRequirement already satisfied: click<9,>=7.0 in /databricks/python3/lib/python3.10/site-packages (from mlflow-skinny<3,>=2.4.0->databricks-vectorsearch-preview) (8.0.4)\nRequirement already satisfied: packaging<24 in /databricks/python3/lib/python3.10/site-packages (from mlflow-skinny<3,>=2.4.0->databricks-vectorsearch-preview) (22.0)\nRequirement already satisfied: databricks-cli<1,>=0.8.7 in /databricks/python3/lib/python3.10/site-packages (from mlflow-skinny<3,>=2.4.0->databricks-vectorsearch-preview) (0.17.7)\nRequirement already satisfied: importlib-metadata!=4.7.0,<7,>=3.7.0 in /databricks/python3/lib/python3.10/site-packages (from mlflow-skinny<3,>=2.4.0->databricks-vectorsearch-preview) (4.11.3)\nRequirement already satisfied: pytz<2024 in /databricks/python3/lib/python3.10/site-packages (from mlflow-skinny<3,>=2.4.0->databricks-vectorsearch-preview) (2022.7)\nRequirement already satisfied: pyyaml<7,>=5.1 in /databricks/python3/lib/python3.10/site-packages (from mlflow-skinny<3,>=2.4.0->databricks-vectorsearch-preview) (6.0)\nRequirement already satisfied: entrypoints<1 in /databricks/python3/lib/python3.10/site-packages (from mlflow-skinny<3,>=2.4.0->databricks-vectorsearch-preview) (0.4)\nRequirement already satisfied: sqlparse<1,>=0.4.0 in /databricks/python3/lib/python3.10/site-packages (from mlflow-skinny<3,>=2.4.0->databricks-vectorsearch-preview) (0.4.2)\nRequirement already satisfied: idna<4,>=2.5 in /databricks/python3/lib/python3.10/site-packages (from requests>=2->databricks-vectorsearch-preview) (3.4)\nRequirement already satisfied: charset-normalizer<3,>=2 in /databricks/python3/lib/python3.10/site-packages (from requests>=2->databricks-vectorsearch-preview) (2.0.4)\nRequirement already satisfied: urllib3<1.27,>=1.21.1 in /databricks/python3/lib/python3.10/site-packages (from requests>=2->databricks-vectorsearch-preview) (1.26.14)\nRequirement already satisfied: certifi>=2017.4.17 in /databricks/python3/lib/python3.10/site-packages (from requests>=2->databricks-vectorsearch-preview) (2022.12.7)\nRequirement already satisfied: oauthlib>=3.1.0 in /usr/lib/python3/dist-packages (from databricks-cli<1,>=0.8.7->mlflow-skinny<3,>=2.4.0->databricks-vectorsearch-preview) (3.2.0)\nRequirement already satisfied: pyjwt>=1.7.0 in /usr/lib/python3/dist-packages (from databricks-cli<1,>=0.8.7->mlflow-skinny<3,>=2.4.0->databricks-vectorsearch-preview) (2.3.0)\nRequirement already satisfied: tabulate>=0.7.7 in /databricks/python3/lib/python3.10/site-packages (from databricks-cli<1,>=0.8.7->mlflow-skinny<3,>=2.4.0->databricks-vectorsearch-preview) (0.8.10)\nRequirement already satisfied: six>=1.10.0 in /usr/lib/python3/dist-packages (from databricks-cli<1,>=0.8.7->mlflow-skinny<3,>=2.4.0->databricks-vectorsearch-preview) (1.16.0)\nRequirement already satisfied: gitdb<5,>=4.0.1 in /databricks/python3/lib/python3.10/site-packages (from gitpython<4,>=2.1.0->mlflow-skinny<3,>=2.4.0->databricks-vectorsearch-preview) (4.0.10)\nRequirement already satisfied: zipp>=0.5 in /databricks/python3/lib/python3.10/site-packages (from importlib-metadata!=4.7.0,<7,>=3.7.0->mlflow-skinny<3,>=2.4.0->databricks-vectorsearch-preview) (3.11.0)\nRequirement already satisfied: smmap<6,>=3.0.1 in /databricks/python3/lib/python3.10/site-packages (from gitdb<5,>=4.0.1->gitpython<4,>=2.1.0->mlflow-skinny<3,>=2.4.0->databricks-vectorsearch-preview) (5.0.0)\nInstalling collected packages: databricks-vectorsearch-preview\nSuccessfully installed databricks-vectorsearch-preview-0.21\n\u001B[43mNote: you may need to restart the kernel using dbutils.library.restartPython() to use updated packages.\u001B[0m\n"
     ]
    }
   ],
   "source": [
    "%pip install databricks-vectorsearch-preview\n",
    "dbutils.library.restartPython()"
   ]
  },
  {
   "cell_type": "code",
   "execution_count": 0,
   "metadata": {
    "application/vnd.databricks.v1+cell": {
     "cellMetadata": {
      "byteLimit": 2048000,
      "rowLimit": 10000
     },
     "inputWidgets": {},
     "nuid": "2a862bc7-e3c1-4a58-9acc-f53884cc1a54",
     "showTitle": false,
     "title": ""
    }
   },
   "outputs": [],
   "source": [
    "from datasets import load_dataset , Dataset, concatenate_datasets \n",
    "import pandas as pd\n",
    "import sqlite3"
   ]
  },
  {
   "cell_type": "code",
   "execution_count": 0,
   "metadata": {
    "application/vnd.databricks.v1+cell": {
     "cellMetadata": {
      "byteLimit": 2048000,
      "rowLimit": 10000
     },
     "inputWidgets": {},
     "nuid": "d47830be-9277-4c82-a597-467d76d671c7",
     "showTitle": false,
     "title": ""
    }
   },
   "outputs": [],
   "source": [
    "from databricks.vector_search.client import VectorSearchClient\n",
    "client = VectorSearchClient()"
   ]
  },
  {
   "cell_type": "code",
   "execution_count": 0,
   "metadata": {
    "application/vnd.databricks.v1+cell": {
     "cellMetadata": {
      "byteLimit": 2048000,
      "implicitDf": true,
      "rowLimit": 10000
     },
     "inputWidgets": {},
     "nuid": "08be9862-62cf-49ce-bd74-ce2b9f76ee73",
     "showTitle": false,
     "title": ""
    }
   },
   "outputs": [
    {
     "output_type": "display_data",
     "data": {
      "text/html": [
       "<style scoped>\n",
       "  .table-result-container {\n",
       "    max-height: 300px;\n",
       "    overflow: auto;\n",
       "  }\n",
       "  table, th, td {\n",
       "    border: 1px solid black;\n",
       "    border-collapse: collapse;\n",
       "  }\n",
       "  th, td {\n",
       "    padding: 5px;\n",
       "  }\n",
       "  th {\n",
       "    text-align: left;\n",
       "  }\n",
       "</style><div class='table-result-container'><table class='table-result'><thead style='background-color: white'><tr></tr></thead><tbody></tbody></table></div>"
      ]
     },
     "metadata": {
      "application/vnd.databricks.v1+output": {
       "addedWidgets": {},
       "aggData": [],
       "aggError": "",
       "aggOverflow": false,
       "aggSchema": [],
       "aggSeriesLimitReached": false,
       "aggType": "",
       "arguments": {},
       "columnCustomDisplayInfos": {},
       "data": [],
       "datasetInfos": [],
       "dbfsResultPath": null,
       "isJsonSchema": true,
       "metadata": {
        "dataframeName": null
       },
       "overflow": false,
       "plotOptions": {
        "customPlotOptions": {},
        "displayType": "table",
        "pivotAggregation": null,
        "pivotColumns": null,
        "xColumns": null,
        "yColumns": null
       },
       "removedWidgets": [],
       "schema": [],
       "type": "table"
      }
     },
     "output_type": "display_data"
    }
   ],
   "source": [
    "%sql\n",
    "-- CREATE A CATALOG, SCHEMA AND VOLUME TO STORE DATA NEEDED FOR THIS. IN PRACTICE, YOU COULD USE AN EXISTING VOLUME\n",
    "CREATE CATALOG IF NOT EXISTS structured_rag;\n",
    "USE CATALOG structured_rag;\n",
    "CREATE DATABASE IF NOT EXISTS structured_rag_db;\n",
    "USE DATABASE structured_rag_db;\n",
    "CREATE VOLUME IF NOT EXISTS structured_rag_raw;"
   ]
  },
  {
   "cell_type": "markdown",
   "metadata": {
    "application/vnd.databricks.v1+cell": {
     "cellMetadata": {},
     "inputWidgets": {},
     "nuid": "a98dedec-f0be-430e-b3bd-d16204c95181",
     "showTitle": false,
     "title": ""
    }
   },
   "source": [
    "download the soccer player sqlite database from the following kaggle page and upload to the volume we just created (drag drop or programmatically persist): https://www.kaggle.com/datasets/hugomathien/soccer/data"
   ]
  },
  {
   "cell_type": "code",
   "execution_count": 0,
   "metadata": {
    "application/vnd.databricks.v1+cell": {
     "cellMetadata": {
      "byteLimit": 2048000,
      "rowLimit": 10000
     },
     "inputWidgets": {},
     "nuid": "240574eb-0aec-43ef-a8e3-5633415c5658",
     "showTitle": false,
     "title": ""
    }
   },
   "outputs": [],
   "source": [
    "conn = sqlite3.connect('/Volumes/structured_rag/structured_rag_db/structured_rag_raw/database.sqlite')"
   ]
  },
  {
   "cell_type": "code",
   "execution_count": 0,
   "metadata": {
    "application/vnd.databricks.v1+cell": {
     "cellMetadata": {
      "byteLimit": 2048000,
      "rowLimit": 10000
     },
     "inputWidgets": {},
     "nuid": "441e102c-45aa-453c-bf8d-7747c3e80ffe",
     "showTitle": false,
     "title": ""
    }
   },
   "outputs": [
    {
     "output_type": "execute_result",
     "data": {
      "text/plain": [
       "[('Player_Attributes',),\n",
       " ('Player',),\n",
       " ('Match',),\n",
       " ('League',),\n",
       " ('Country',),\n",
       " ('Team',),\n",
       " ('Team_Attributes',)]"
      ]
     },
     "execution_count": 4,
     "metadata": {},
     "output_type": "execute_result"
    }
   ],
   "source": [
    "# Query to fetch the table names from the SQLite master table.\n",
    "query = \"SELECT name FROM sqlite_master WHERE type='table';\"\n",
    "# Execute the query and fetch all table names.\n",
    "table_names = conn.execute(query).fetchall()\n",
    "table_names.pop(0)\n",
    "table_names"
   ]
  },
  {
   "cell_type": "code",
   "execution_count": 0,
   "metadata": {
    "application/vnd.databricks.v1+cell": {
     "cellMetadata": {
      "byteLimit": 2048000,
      "rowLimit": 10000
     },
     "inputWidgets": {},
     "nuid": "99097f6c-7e5f-4f19-9369-fcbb9b6f3fb9",
     "showTitle": false,
     "title": ""
    }
   },
   "outputs": [],
   "source": [
    "for table in table_names:\n",
    "  table_name = table[0]\n",
    "  \n",
    "  # Query to fetch all data from the current table.\n",
    "  query = f\"SELECT * FROM {table_name};\"\n",
    "  \n",
    "  # Use Pandas to read data from the SQLite database into a DataFrame.\n",
    "  df = pd.read_sql_query(query, conn)\n",
    "  spark.createDataFrame(df).write.saveAsTable(table_name)"
   ]
  },
  {
   "cell_type": "code",
   "execution_count": 0,
   "metadata": {
    "application/vnd.databricks.v1+cell": {
     "cellMetadata": {
      "byteLimit": 2048000,
      "rowLimit": 10000
     },
     "inputWidgets": {},
     "nuid": "5e14e11a-9740-4d4c-b265-c5977336da47",
     "showTitle": false,
     "title": ""
    }
   },
   "outputs": [
    {
     "output_type": "stream",
     "name": "stdout",
     "output_type": "stream",
     "text": [
      "+-----------------+-----------------+-----------+\n|         database|        tableName|isTemporary|\n+-----------------+-----------------+-----------+\n|structured_rag_db|          country|      false|\n|structured_rag_db|           league|      false|\n|structured_rag_db|            match|      false|\n|structured_rag_db|           player|      false|\n|structured_rag_db|player_attributes|      false|\n|structured_rag_db|             team|      false|\n|structured_rag_db|  team_attributes|      false|\n+-----------------+-----------------+-----------+\n\n"
     ]
    }
   ],
   "source": [
    "# Use spark SQL to show all tables in the specified database.\n",
    "tables = spark.sql(f\"SHOW TABLES\")\n",
    "\n",
    "# Display the list of tables.\n",
    "tables.show()"
   ]
  },
  {
   "cell_type": "code",
   "execution_count": 0,
   "metadata": {
    "application/vnd.databricks.v1+cell": {
     "cellMetadata": {
      "byteLimit": 2048000,
      "rowLimit": 10000
     },
     "inputWidgets": {},
     "nuid": "f52af5d2-513a-46b9-baf5-314ed7ff19c4",
     "showTitle": false,
     "title": ""
    }
   },
   "outputs": [
    {
     "output_type": "execute_result",
     "data": {
      "text/plain": [
       "['country',\n",
       " 'league',\n",
       " 'match',\n",
       " 'player',\n",
       " 'player_attributes',\n",
       " 'team',\n",
       " 'team_attributes']"
      ]
     },
     "execution_count": 7,
     "metadata": {},
     "output_type": "execute_result"
    }
   ],
   "source": [
    "# Get a list of table names in the schema\n",
    "tables = spark.sql(\"SHOW TABLES\")\n",
    "table_names = [row.tableName for row in tables.collect()]\n",
    "table_names"
   ]
  },
  {
   "cell_type": "code",
   "execution_count": 0,
   "metadata": {
    "application/vnd.databricks.v1+cell": {
     "cellMetadata": {
      "byteLimit": 2048000,
      "rowLimit": 10000
     },
     "inputWidgets": {},
     "nuid": "6d7ef254-2a96-40e3-b593-df8a1f16faf2",
     "showTitle": false,
     "title": ""
    }
   },
   "outputs": [],
   "source": [
    "# Initialize an empty list to store table descriptions\n",
    "table_descriptions = []\n",
    "\n",
    "# Loop over each table\n",
    "for table_name in table_names:\n",
    "    # Describe the table\n",
    "    table_description = spark.sql(f\"DESCRIBE {table_name}\")\n",
    "    \n",
    "    # Create a sentence describing the table\n",
    "    sentence = f\"Table '{table_name}' has the following columns:\"\n",
    "    \n",
    "    # Loop over columns in the table description\n",
    "    for row in table_description.collect():\n",
    "        # Extract column name and data type\n",
    "        column_name, data_type, _ = row\n",
    "        sentence += f\"\\n- Column '{column_name}' with data type '{data_type}'\"\n",
    "    \n",
    "    # Add the table description sentence to the list\n",
    "    table_descriptions.append(sentence)"
   ]
  },
  {
   "cell_type": "code",
   "execution_count": 0,
   "metadata": {
    "application/vnd.databricks.v1+cell": {
     "cellMetadata": {
      "byteLimit": 2048000,
      "rowLimit": 10000
     },
     "inputWidgets": {},
     "nuid": "bd7e9b33-a9a1-4be4-8548-2de3c39f209e",
     "showTitle": false,
     "title": ""
    }
   },
   "outputs": [
    {
     "output_type": "execute_result",
     "data": {
      "text/plain": [
       "\"Table 'league' has the following columns:\\n- Column 'id' with data type 'bigint'\\n- Column 'country_id' with data type 'bigint'\\n- Column 'name' with data type 'string'\""
      ]
     },
     "execution_count": 9,
     "metadata": {},
     "output_type": "execute_result"
    }
   ],
   "source": [
    "#Verify if it worked or not\n",
    "table_descriptions[1]"
   ]
  },
  {
   "cell_type": "code",
   "execution_count": 0,
   "metadata": {
    "application/vnd.databricks.v1+cell": {
     "cellMetadata": {
      "byteLimit": 2048000,
      "rowLimit": 10000
     },
     "inputWidgets": {},
     "nuid": "e194d855-d470-49dc-9783-9dc25319937b",
     "showTitle": false,
     "title": ""
    }
   },
   "outputs": [
    {
     "output_type": "execute_result",
     "data": {
      "text/plain": [
       "True"
      ]
     },
     "execution_count": 10,
     "metadata": {},
     "output_type": "execute_result"
    }
   ],
   "source": [
    "ids = list(range(7))\n",
    "len(ids)== len(table_descriptions)"
   ]
  },
  {
   "cell_type": "code",
   "execution_count": 0,
   "metadata": {
    "application/vnd.databricks.v1+cell": {
     "cellMetadata": {
      "byteLimit": 2048000,
      "rowLimit": 10000
     },
     "inputWidgets": {},
     "nuid": "2888a072-f828-416f-b6c1-d0374cb97c40",
     "showTitle": false,
     "title": ""
    }
   },
   "outputs": [],
   "source": [
    "index_dict = {'ids': ids, 'table_descriptions': table_descriptions}\n",
    "spark.createDataFrame(pd.DataFrame.from_dict(index_dict)).write.saveAsTable('table_descriptions')"
   ]
  },
  {
   "cell_type": "code",
   "execution_count": 0,
   "metadata": {
    "application/vnd.databricks.v1+cell": {
     "cellMetadata": {
      "byteLimit": 2048000,
      "implicitDf": true,
      "rowLimit": 10000
     },
     "inputWidgets": {},
     "nuid": "6100c3b8-d293-4f77-a5c2-9f81cdf568d0",
     "showTitle": false,
     "title": ""
    }
   },
   "outputs": [
    {
     "output_type": "display_data",
     "data": {
      "text/html": [
       "<style scoped>\n",
       "  .table-result-container {\n",
       "    max-height: 300px;\n",
       "    overflow: auto;\n",
       "  }\n",
       "  table, th, td {\n",
       "    border: 1px solid black;\n",
       "    border-collapse: collapse;\n",
       "  }\n",
       "  th, td {\n",
       "    padding: 5px;\n",
       "  }\n",
       "  th {\n",
       "    text-align: left;\n",
       "  }\n",
       "</style><div class='table-result-container'><table class='table-result'><thead style='background-color: white'><tr><th>ids</th><th>table_descriptions</th></tr></thead><tbody><tr><td>0</td><td>Table 'country' has the following columns:\n",
       "- Column 'id' with data type 'bigint'\n",
       "- Column 'name' with data type 'string'</td></tr><tr><td>1</td><td>Table 'league' has the following columns:\n",
       "- Column 'id' with data type 'bigint'\n",
       "- Column 'country_id' with data type 'bigint'\n",
       "- Column 'name' with data type 'string'</td></tr><tr><td>2</td><td>Table 'match' has the following columns:\n",
       "- Column 'id' with data type 'bigint'\n",
       "- Column 'country_id' with data type 'bigint'\n",
       "- Column 'league_id' with data type 'bigint'\n",
       "- Column 'season' with data type 'string'\n",
       "- Column 'stage' with data type 'bigint'\n",
       "- Column 'date' with data type 'string'\n",
       "- Column 'match_api_id' with data type 'bigint'\n",
       "- Column 'home_team_api_id' with data type 'bigint'\n",
       "- Column 'away_team_api_id' with data type 'bigint'\n",
       "- Column 'home_team_goal' with data type 'bigint'\n",
       "- Column 'away_team_goal' with data type 'bigint'\n",
       "- Column 'home_player_X1' with data type 'double'\n",
       "- Column 'home_player_X2' with data type 'double'\n",
       "- Column 'home_player_X3' with data type 'double'\n",
       "- Column 'home_player_X4' with data type 'double'\n",
       "- Column 'home_player_X5' with data type 'double'\n",
       "- Column 'home_player_X6' with data type 'double'\n",
       "- Column 'home_player_X7' with data type 'double'\n",
       "- Column 'home_player_X8' with data type 'double'\n",
       "- Column 'home_player_X9' with data type 'double'\n",
       "- Column 'home_player_X10' with data type 'double'\n",
       "- Column 'home_player_X11' with data type 'double'\n",
       "- Column 'away_player_X1' with data type 'double'\n",
       "- Column 'away_player_X2' with data type 'double'\n",
       "- Column 'away_player_X3' with data type 'double'\n",
       "- Column 'away_player_X4' with data type 'double'\n",
       "- Column 'away_player_X5' with data type 'double'\n",
       "- Column 'away_player_X6' with data type 'double'\n",
       "- Column 'away_player_X7' with data type 'double'\n",
       "- Column 'away_player_X8' with data type 'double'\n",
       "- Column 'away_player_X9' with data type 'double'\n",
       "- Column 'away_player_X10' with data type 'double'\n",
       "- Column 'away_player_X11' with data type 'double'\n",
       "- Column 'home_player_Y1' with data type 'double'\n",
       "- Column 'home_player_Y2' with data type 'double'\n",
       "- Column 'home_player_Y3' with data type 'double'\n",
       "- Column 'home_player_Y4' with data type 'double'\n",
       "- Column 'home_player_Y5' with data type 'double'\n",
       "- Column 'home_player_Y6' with data type 'double'\n",
       "- Column 'home_player_Y7' with data type 'double'\n",
       "- Column 'home_player_Y8' with data type 'double'\n",
       "- Column 'home_player_Y9' with data type 'double'\n",
       "- Column 'home_player_Y10' with data type 'double'\n",
       "- Column 'home_player_Y11' with data type 'double'\n",
       "- Column 'away_player_Y1' with data type 'double'\n",
       "- Column 'away_player_Y2' with data type 'double'\n",
       "- Column 'away_player_Y3' with data type 'double'\n",
       "- Column 'away_player_Y4' with data type 'double'\n",
       "- Column 'away_player_Y5' with data type 'double'\n",
       "- Column 'away_player_Y6' with data type 'double'\n",
       "- Column 'away_player_Y7' with data type 'double'\n",
       "- Column 'away_player_Y8' with data type 'double'\n",
       "- Column 'away_player_Y9' with data type 'double'\n",
       "- Column 'away_player_Y10' with data type 'double'\n",
       "- Column 'away_player_Y11' with data type 'double'\n",
       "- Column 'home_player_1' with data type 'double'\n",
       "- Column 'home_player_2' with data type 'double'\n",
       "- Column 'home_player_3' with data type 'double'\n",
       "- Column 'home_player_4' with data type 'double'\n",
       "- Column 'home_player_5' with data type 'double'\n",
       "- Column 'home_player_6' with data type 'double'\n",
       "- Column 'home_player_7' with data type 'double'\n",
       "- Column 'home_player_8' with data type 'double'\n",
       "- Column 'home_player_9' with data type 'double'\n",
       "- Column 'home_player_10' with data type 'double'\n",
       "- Column 'home_player_11' with data type 'double'\n",
       "- Column 'away_player_1' with data type 'double'\n",
       "- Column 'away_player_2' with data type 'double'\n",
       "- Column 'away_player_3' with data type 'double'\n",
       "- Column 'away_player_4' with data type 'double'\n",
       "- Column 'away_player_5' with data type 'double'\n",
       "- Column 'away_player_6' with data type 'double'\n",
       "- Column 'away_player_7' with data type 'double'\n",
       "- Column 'away_player_8' with data type 'double'\n",
       "- Column 'away_player_9' with data type 'double'\n",
       "- Column 'away_player_10' with data type 'double'\n",
       "- Column 'away_player_11' with data type 'double'\n",
       "- Column 'goal' with data type 'string'\n",
       "- Column 'shoton' with data type 'string'\n",
       "- Column 'shotoff' with data type 'string'\n",
       "- Column 'foulcommit' with data type 'string'\n",
       "- Column 'card' with data type 'string'\n",
       "- Column 'cross' with data type 'string'\n",
       "- Column 'corner' with data type 'string'\n",
       "- Column 'possession' with data type 'string'\n",
       "- Column 'B365H' with data type 'double'\n",
       "- Column 'B365D' with data type 'double'\n",
       "- Column 'B365A' with data type 'double'\n",
       "- Column 'BWH' with data type 'double'\n",
       "- Column 'BWD' with data type 'double'\n",
       "- Column 'BWA' with data type 'double'\n",
       "- Column 'IWH' with data type 'double'\n",
       "- Column 'IWD' with data type 'double'\n",
       "- Column 'IWA' with data type 'double'\n",
       "- Column 'LBH' with data type 'double'\n",
       "- Column 'LBD' with data type 'double'\n",
       "- Column 'LBA' with data type 'double'\n",
       "- Column 'PSH' with data type 'double'\n",
       "- Column 'PSD' with data type 'double'\n",
       "- Column 'PSA' with data type 'double'\n",
       "- Column 'WHH' with data type 'double'\n",
       "- Column 'WHD' with data type 'double'\n",
       "- Column 'WHA' with data type 'double'\n",
       "- Column 'SJH' with data type 'double'\n",
       "- Column 'SJD' with data type 'double'\n",
       "- Column 'SJA' with data type 'double'\n",
       "- Column 'VCH' with data type 'double'\n",
       "- Column 'VCD' with data type 'double'\n",
       "- Column 'VCA' with data type 'double'\n",
       "- Column 'GBH' with data type 'double'\n",
       "- Column 'GBD' with data type 'double'\n",
       "- Column 'GBA' with data type 'double'\n",
       "- Column 'BSH' with data type 'double'\n",
       "- Column 'BSD' with data type 'double'\n",
       "- Column 'BSA' with data type 'double'</td></tr><tr><td>3</td><td>Table 'player' has the following columns:\n",
       "- Column 'id' with data type 'bigint'\n",
       "- Column 'player_api_id' with data type 'bigint'\n",
       "- Column 'player_name' with data type 'string'\n",
       "- Column 'player_fifa_api_id' with data type 'bigint'\n",
       "- Column 'birthday' with data type 'string'\n",
       "- Column 'height' with data type 'double'\n",
       "- Column 'weight' with data type 'bigint'</td></tr><tr><td>4</td><td>Table 'player_attributes' has the following columns:\n",
       "- Column 'id' with data type 'bigint'\n",
       "- Column 'player_fifa_api_id' with data type 'bigint'\n",
       "- Column 'player_api_id' with data type 'bigint'\n",
       "- Column 'date' with data type 'string'\n",
       "- Column 'overall_rating' with data type 'double'\n",
       "- Column 'potential' with data type 'double'\n",
       "- Column 'preferred_foot' with data type 'string'\n",
       "- Column 'attacking_work_rate' with data type 'string'\n",
       "- Column 'defensive_work_rate' with data type 'string'\n",
       "- Column 'crossing' with data type 'double'\n",
       "- Column 'finishing' with data type 'double'\n",
       "- Column 'heading_accuracy' with data type 'double'\n",
       "- Column 'short_passing' with data type 'double'\n",
       "- Column 'volleys' with data type 'double'\n",
       "- Column 'dribbling' with data type 'double'\n",
       "- Column 'curve' with data type 'double'\n",
       "- Column 'free_kick_accuracy' with data type 'double'\n",
       "- Column 'long_passing' with data type 'double'\n",
       "- Column 'ball_control' with data type 'double'\n",
       "- Column 'acceleration' with data type 'double'\n",
       "- Column 'sprint_speed' with data type 'double'\n",
       "- Column 'agility' with data type 'double'\n",
       "- Column 'reactions' with data type 'double'\n",
       "- Column 'balance' with data type 'double'\n",
       "- Column 'shot_power' with data type 'double'\n",
       "- Column 'jumping' with data type 'double'\n",
       "- Column 'stamina' with data type 'double'\n",
       "- Column 'strength' with data type 'double'\n",
       "- Column 'long_shots' with data type 'double'\n",
       "- Column 'aggression' with data type 'double'\n",
       "- Column 'interceptions' with data type 'double'\n",
       "- Column 'positioning' with data type 'double'\n",
       "- Column 'vision' with data type 'double'\n",
       "- Column 'penalties' with data type 'double'\n",
       "- Column 'marking' with data type 'double'\n",
       "- Column 'standing_tackle' with data type 'double'\n",
       "- Column 'sliding_tackle' with data type 'double'\n",
       "- Column 'gk_diving' with data type 'double'\n",
       "- Column 'gk_handling' with data type 'double'\n",
       "- Column 'gk_kicking' with data type 'double'\n",
       "- Column 'gk_positioning' with data type 'double'\n",
       "- Column 'gk_reflexes' with data type 'double'</td></tr><tr><td>5</td><td>Table 'team' has the following columns:\n",
       "- Column 'id' with data type 'bigint'\n",
       "- Column 'team_api_id' with data type 'bigint'\n",
       "- Column 'team_fifa_api_id' with data type 'double'\n",
       "- Column 'team_long_name' with data type 'string'\n",
       "- Column 'team_short_name' with data type 'string'</td></tr><tr><td>6</td><td>Table 'team_attributes' has the following columns:\n",
       "- Column 'id' with data type 'bigint'\n",
       "- Column 'team_fifa_api_id' with data type 'bigint'\n",
       "- Column 'team_api_id' with data type 'bigint'\n",
       "- Column 'date' with data type 'string'\n",
       "- Column 'buildUpPlaySpeed' with data type 'bigint'\n",
       "- Column 'buildUpPlaySpeedClass' with data type 'string'\n",
       "- Column 'buildUpPlayDribbling' with data type 'double'\n",
       "- Column 'buildUpPlayDribblingClass' with data type 'string'\n",
       "- Column 'buildUpPlayPassing' with data type 'bigint'\n",
       "- Column 'buildUpPlayPassingClass' with data type 'string'\n",
       "- Column 'buildUpPlayPositioningClass' with data type 'string'\n",
       "- Column 'chanceCreationPassing' with data type 'bigint'\n",
       "- Column 'chanceCreationPassingClass' with data type 'string'\n",
       "- Column 'chanceCreationCrossing' with data type 'bigint'\n",
       "- Column 'chanceCreationCrossingClass' with data type 'string'\n",
       "- Column 'chanceCreationShooting' with data type 'bigint'\n",
       "- Column 'chanceCreationShootingClass' with data type 'string'\n",
       "- Column 'chanceCreationPositioningClass' with data type 'string'\n",
       "- Column 'defencePressure' with data type 'bigint'\n",
       "- Column 'defencePressureClass' with data type 'string'\n",
       "- Column 'defenceAggression' with data type 'bigint'\n",
       "- Column 'defenceAggressionClass' with data type 'string'\n",
       "- Column 'defenceTeamWidth' with data type 'bigint'\n",
       "- Column 'defenceTeamWidthClass' with data type 'string'\n",
       "- Column 'defenceDefenderLineClass' with data type 'string'</td></tr></tbody></table></div>"
      ]
     },
     "metadata": {
      "application/vnd.databricks.v1+output": {
       "addedWidgets": {},
       "aggData": [],
       "aggError": "",
       "aggOverflow": false,
       "aggSchema": [],
       "aggSeriesLimitReached": false,
       "aggType": "",
       "arguments": {},
       "columnCustomDisplayInfos": {},
       "data": [
        [
         0,
         "Table 'country' has the following columns:\n- Column 'id' with data type 'bigint'\n- Column 'name' with data type 'string'"
        ],
        [
         1,
         "Table 'league' has the following columns:\n- Column 'id' with data type 'bigint'\n- Column 'country_id' with data type 'bigint'\n- Column 'name' with data type 'string'"
        ],
        [
         2,
         "Table 'match' has the following columns:\n- Column 'id' with data type 'bigint'\n- Column 'country_id' with data type 'bigint'\n- Column 'league_id' with data type 'bigint'\n- Column 'season' with data type 'string'\n- Column 'stage' with data type 'bigint'\n- Column 'date' with data type 'string'\n- Column 'match_api_id' with data type 'bigint'\n- Column 'home_team_api_id' with data type 'bigint'\n- Column 'away_team_api_id' with data type 'bigint'\n- Column 'home_team_goal' with data type 'bigint'\n- Column 'away_team_goal' with data type 'bigint'\n- Column 'home_player_X1' with data type 'double'\n- Column 'home_player_X2' with data type 'double'\n- Column 'home_player_X3' with data type 'double'\n- Column 'home_player_X4' with data type 'double'\n- Column 'home_player_X5' with data type 'double'\n- Column 'home_player_X6' with data type 'double'\n- Column 'home_player_X7' with data type 'double'\n- Column 'home_player_X8' with data type 'double'\n- Column 'home_player_X9' with data type 'double'\n- Column 'home_player_X10' with data type 'double'\n- Column 'home_player_X11' with data type 'double'\n- Column 'away_player_X1' with data type 'double'\n- Column 'away_player_X2' with data type 'double'\n- Column 'away_player_X3' with data type 'double'\n- Column 'away_player_X4' with data type 'double'\n- Column 'away_player_X5' with data type 'double'\n- Column 'away_player_X6' with data type 'double'\n- Column 'away_player_X7' with data type 'double'\n- Column 'away_player_X8' with data type 'double'\n- Column 'away_player_X9' with data type 'double'\n- Column 'away_player_X10' with data type 'double'\n- Column 'away_player_X11' with data type 'double'\n- Column 'home_player_Y1' with data type 'double'\n- Column 'home_player_Y2' with data type 'double'\n- Column 'home_player_Y3' with data type 'double'\n- Column 'home_player_Y4' with data type 'double'\n- Column 'home_player_Y5' with data type 'double'\n- Column 'home_player_Y6' with data type 'double'\n- Column 'home_player_Y7' with data type 'double'\n- Column 'home_player_Y8' with data type 'double'\n- Column 'home_player_Y9' with data type 'double'\n- Column 'home_player_Y10' with data type 'double'\n- Column 'home_player_Y11' with data type 'double'\n- Column 'away_player_Y1' with data type 'double'\n- Column 'away_player_Y2' with data type 'double'\n- Column 'away_player_Y3' with data type 'double'\n- Column 'away_player_Y4' with data type 'double'\n- Column 'away_player_Y5' with data type 'double'\n- Column 'away_player_Y6' with data type 'double'\n- Column 'away_player_Y7' with data type 'double'\n- Column 'away_player_Y8' with data type 'double'\n- Column 'away_player_Y9' with data type 'double'\n- Column 'away_player_Y10' with data type 'double'\n- Column 'away_player_Y11' with data type 'double'\n- Column 'home_player_1' with data type 'double'\n- Column 'home_player_2' with data type 'double'\n- Column 'home_player_3' with data type 'double'\n- Column 'home_player_4' with data type 'double'\n- Column 'home_player_5' with data type 'double'\n- Column 'home_player_6' with data type 'double'\n- Column 'home_player_7' with data type 'double'\n- Column 'home_player_8' with data type 'double'\n- Column 'home_player_9' with data type 'double'\n- Column 'home_player_10' with data type 'double'\n- Column 'home_player_11' with data type 'double'\n- Column 'away_player_1' with data type 'double'\n- Column 'away_player_2' with data type 'double'\n- Column 'away_player_3' with data type 'double'\n- Column 'away_player_4' with data type 'double'\n- Column 'away_player_5' with data type 'double'\n- Column 'away_player_6' with data type 'double'\n- Column 'away_player_7' with data type 'double'\n- Column 'away_player_8' with data type 'double'\n- Column 'away_player_9' with data type 'double'\n- Column 'away_player_10' with data type 'double'\n- Column 'away_player_11' with data type 'double'\n- Column 'goal' with data type 'string'\n- Column 'shoton' with data type 'string'\n- Column 'shotoff' with data type 'string'\n- Column 'foulcommit' with data type 'string'\n- Column 'card' with data type 'string'\n- Column 'cross' with data type 'string'\n- Column 'corner' with data type 'string'\n- Column 'possession' with data type 'string'\n- Column 'B365H' with data type 'double'\n- Column 'B365D' with data type 'double'\n- Column 'B365A' with data type 'double'\n- Column 'BWH' with data type 'double'\n- Column 'BWD' with data type 'double'\n- Column 'BWA' with data type 'double'\n- Column 'IWH' with data type 'double'\n- Column 'IWD' with data type 'double'\n- Column 'IWA' with data type 'double'\n- Column 'LBH' with data type 'double'\n- Column 'LBD' with data type 'double'\n- Column 'LBA' with data type 'double'\n- Column 'PSH' with data type 'double'\n- Column 'PSD' with data type 'double'\n- Column 'PSA' with data type 'double'\n- Column 'WHH' with data type 'double'\n- Column 'WHD' with data type 'double'\n- Column 'WHA' with data type 'double'\n- Column 'SJH' with data type 'double'\n- Column 'SJD' with data type 'double'\n- Column 'SJA' with data type 'double'\n- Column 'VCH' with data type 'double'\n- Column 'VCD' with data type 'double'\n- Column 'VCA' with data type 'double'\n- Column 'GBH' with data type 'double'\n- Column 'GBD' with data type 'double'\n- Column 'GBA' with data type 'double'\n- Column 'BSH' with data type 'double'\n- Column 'BSD' with data type 'double'\n- Column 'BSA' with data type 'double'"
        ],
        [
         3,
         "Table 'player' has the following columns:\n- Column 'id' with data type 'bigint'\n- Column 'player_api_id' with data type 'bigint'\n- Column 'player_name' with data type 'string'\n- Column 'player_fifa_api_id' with data type 'bigint'\n- Column 'birthday' with data type 'string'\n- Column 'height' with data type 'double'\n- Column 'weight' with data type 'bigint'"
        ],
        [
         4,
         "Table 'player_attributes' has the following columns:\n- Column 'id' with data type 'bigint'\n- Column 'player_fifa_api_id' with data type 'bigint'\n- Column 'player_api_id' with data type 'bigint'\n- Column 'date' with data type 'string'\n- Column 'overall_rating' with data type 'double'\n- Column 'potential' with data type 'double'\n- Column 'preferred_foot' with data type 'string'\n- Column 'attacking_work_rate' with data type 'string'\n- Column 'defensive_work_rate' with data type 'string'\n- Column 'crossing' with data type 'double'\n- Column 'finishing' with data type 'double'\n- Column 'heading_accuracy' with data type 'double'\n- Column 'short_passing' with data type 'double'\n- Column 'volleys' with data type 'double'\n- Column 'dribbling' with data type 'double'\n- Column 'curve' with data type 'double'\n- Column 'free_kick_accuracy' with data type 'double'\n- Column 'long_passing' with data type 'double'\n- Column 'ball_control' with data type 'double'\n- Column 'acceleration' with data type 'double'\n- Column 'sprint_speed' with data type 'double'\n- Column 'agility' with data type 'double'\n- Column 'reactions' with data type 'double'\n- Column 'balance' with data type 'double'\n- Column 'shot_power' with data type 'double'\n- Column 'jumping' with data type 'double'\n- Column 'stamina' with data type 'double'\n- Column 'strength' with data type 'double'\n- Column 'long_shots' with data type 'double'\n- Column 'aggression' with data type 'double'\n- Column 'interceptions' with data type 'double'\n- Column 'positioning' with data type 'double'\n- Column 'vision' with data type 'double'\n- Column 'penalties' with data type 'double'\n- Column 'marking' with data type 'double'\n- Column 'standing_tackle' with data type 'double'\n- Column 'sliding_tackle' with data type 'double'\n- Column 'gk_diving' with data type 'double'\n- Column 'gk_handling' with data type 'double'\n- Column 'gk_kicking' with data type 'double'\n- Column 'gk_positioning' with data type 'double'\n- Column 'gk_reflexes' with data type 'double'"
        ],
        [
         5,
         "Table 'team' has the following columns:\n- Column 'id' with data type 'bigint'\n- Column 'team_api_id' with data type 'bigint'\n- Column 'team_fifa_api_id' with data type 'double'\n- Column 'team_long_name' with data type 'string'\n- Column 'team_short_name' with data type 'string'"
        ],
        [
         6,
         "Table 'team_attributes' has the following columns:\n- Column 'id' with data type 'bigint'\n- Column 'team_fifa_api_id' with data type 'bigint'\n- Column 'team_api_id' with data type 'bigint'\n- Column 'date' with data type 'string'\n- Column 'buildUpPlaySpeed' with data type 'bigint'\n- Column 'buildUpPlaySpeedClass' with data type 'string'\n- Column 'buildUpPlayDribbling' with data type 'double'\n- Column 'buildUpPlayDribblingClass' with data type 'string'\n- Column 'buildUpPlayPassing' with data type 'bigint'\n- Column 'buildUpPlayPassingClass' with data type 'string'\n- Column 'buildUpPlayPositioningClass' with data type 'string'\n- Column 'chanceCreationPassing' with data type 'bigint'\n- Column 'chanceCreationPassingClass' with data type 'string'\n- Column 'chanceCreationCrossing' with data type 'bigint'\n- Column 'chanceCreationCrossingClass' with data type 'string'\n- Column 'chanceCreationShooting' with data type 'bigint'\n- Column 'chanceCreationShootingClass' with data type 'string'\n- Column 'chanceCreationPositioningClass' with data type 'string'\n- Column 'defencePressure' with data type 'bigint'\n- Column 'defencePressureClass' with data type 'string'\n- Column 'defenceAggression' with data type 'bigint'\n- Column 'defenceAggressionClass' with data type 'string'\n- Column 'defenceTeamWidth' with data type 'bigint'\n- Column 'defenceTeamWidthClass' with data type 'string'\n- Column 'defenceDefenderLineClass' with data type 'string'"
        ]
       ],
       "datasetInfos": [],
       "dbfsResultPath": null,
       "isJsonSchema": true,
       "metadata": {
        "dataframeName": "_sqldf",
        "executionCount": 21
       },
       "overflow": false,
       "plotOptions": {
        "customPlotOptions": {},
        "displayType": "table",
        "pivotAggregation": null,
        "pivotColumns": null,
        "xColumns": null,
        "yColumns": null
       },
       "removedWidgets": [],
       "schema": [
        {
         "metadata": "{}",
         "name": "ids",
         "type": "\"long\""
        },
        {
         "metadata": "{}",
         "name": "table_descriptions",
         "type": "\"string\""
        }
       ],
       "type": "table"
      }
     },
     "output_type": "display_data"
    }
   ],
   "source": [
    "%sql \n",
    "SELECT * FROM table_descriptions"
   ]
  },
  {
   "cell_type": "code",
   "execution_count": 0,
   "metadata": {
    "application/vnd.databricks.v1+cell": {
     "cellMetadata": {
      "byteLimit": 2048000,
      "implicitDf": true,
      "rowLimit": 10000
     },
     "inputWidgets": {},
     "nuid": "c9bb5270-b9c0-4454-9f2a-fc7b4c01f12b",
     "showTitle": false,
     "title": ""
    }
   },
   "outputs": [
    {
     "output_type": "display_data",
     "data": {
      "text/html": [
       "<style scoped>\n",
       "  .table-result-container {\n",
       "    max-height: 300px;\n",
       "    overflow: auto;\n",
       "  }\n",
       "  table, th, td {\n",
       "    border: 1px solid black;\n",
       "    border-collapse: collapse;\n",
       "  }\n",
       "  th, td {\n",
       "    padding: 5px;\n",
       "  }\n",
       "  th {\n",
       "    text-align: left;\n",
       "  }\n",
       "</style><div class='table-result-container'><table class='table-result'><thead style='background-color: white'><tr></tr></thead><tbody></tbody></table></div>"
      ]
     },
     "metadata": {
      "application/vnd.databricks.v1+output": {
       "addedWidgets": {},
       "aggData": [],
       "aggError": "",
       "aggOverflow": false,
       "aggSchema": [],
       "aggSeriesLimitReached": false,
       "aggType": "",
       "arguments": {},
       "columnCustomDisplayInfos": {},
       "data": [],
       "datasetInfos": [],
       "dbfsResultPath": null,
       "isJsonSchema": true,
       "metadata": {
        "dataframeName": null
       },
       "overflow": false,
       "plotOptions": {
        "customPlotOptions": {},
        "displayType": "table",
        "pivotAggregation": null,
        "pivotColumns": null,
        "xColumns": null,
        "yColumns": null
       },
       "removedWidgets": [],
       "schema": [],
       "type": "table"
      }
     },
     "output_type": "display_data"
    }
   ],
   "source": [
    "%sql\n",
    "ALTER TABLE table_descriptions SET TBLPROPERTIES (delta.enableChangeDataFeed = true)"
   ]
  },
  {
   "cell_type": "code",
   "execution_count": 0,
   "metadata": {
    "application/vnd.databricks.v1+cell": {
     "cellMetadata": {
      "byteLimit": 2048000,
      "rowLimit": 10000
     },
     "inputWidgets": {},
     "nuid": "c7f792bf-1d16-488e-875a-8380303392b2",
     "showTitle": false,
     "title": ""
    }
   },
   "outputs": [
    {
     "output_type": "execute_result",
     "data": {
      "text/plain": [
       "{'name': 'vs_catalog.vs_schema.structuredrag-table-index',\n",
       " 'spec': {'continuous': {},\n",
       "  'src_table': 'structured_rag.structured_rag_db.table_descriptions',\n",
       "  'dest_index': 'vs_catalog.vs_schema.structuredrag-table-index',\n",
       "  'primary_key': 'ids',\n",
       "  'vector_index': {'column': 'table_descriptions',\n",
       "   'embedding_model_endpoint_name': 'all-MiniLM-L6-v2-avi'}},\n",
       " 'index_status': {'state': 'NOT_READY',\n",
       "  'message': 'Index creation is in progress. Check latest status in Delta Live Tables: href=\"#joblist/pipelines/4e984a8a-8b67-4a29-ad6c-a1abe129fcb1/updates/9fcc44ad-31b0-40a1-8cf3-21e739771f24\"'}}"
      ]
     },
     "execution_count": 13,
     "metadata": {},
     "output_type": "execute_result"
    }
   ],
   "source": [
    "client.create_index(\n",
    "  source_table_name=\"structured_rag.structured_rag_db.table_descriptions\",\n",
    "  dest_index_name=\"vs_catalog.vs_schema.structuredrag-table-index\",\n",
    "  primary_key=\"ids\",\n",
    "  index_column=\"table_descriptions\",\n",
    "  embedding_model_endpoint_name=\"all-MiniLM-L6-v2-avi\")"
   ]
  },
  {
   "cell_type": "code",
   "execution_count": 0,
   "metadata": {
    "application/vnd.databricks.v1+cell": {
     "cellMetadata": {
      "byteLimit": 2048000,
      "rowLimit": 10000
     },
     "inputWidgets": {},
     "nuid": "6c0b1fa5-12fb-4c04-b8ab-feaccf4709a5",
     "showTitle": false,
     "title": ""
    }
   },
   "outputs": [
    {
     "output_type": "execute_result",
     "data": {
      "text/plain": [
       "{'indexes': [{'name': 'vs_catalog.chatbot.databricks_documentation_index',\n",
       "   'index_definition': {'name': 'vs_catalog.chatbot.databricks_documentation_index',\n",
       "    'spec': {'continuous': {},\n",
       "     'src_table': 'dbdemos.chatbot.databricks_documentation',\n",
       "     'dest_index': 'vs_catalog.chatbot.databricks_documentation_index',\n",
       "     'primary_key': 'id',\n",
       "     'vector_index': {'column': 'content'}}},\n",
       "   'index_status': {'state': 'READY',\n",
       "    'message': 'Index creation succeeded using Delta Live Tables: href=\"#joblist/pipelines/0c2fb52e-3289-4dd3-8c71-9c24a61d08cd/updates/800e624a-e111-42b6-8400-7dac19c3ada1\"',\n",
       "    'indexed_row_count': 2326}},\n",
       "  {'name': 'vs_catalog.chatbot_ivy.databricks_documentation_index',\n",
       "   'index_definition': {'name': 'vs_catalog.chatbot_ivy.databricks_documentation_index',\n",
       "    'spec': {'continuous': {},\n",
       "     'src_table': 'dbdemos.chatbot_ivy.databricks_documentation',\n",
       "     'dest_index': 'vs_catalog.chatbot_ivy.databricks_documentation_index',\n",
       "     'primary_key': 'id',\n",
       "     'vector_index': {'column': 'content'}}},\n",
       "   'index_status': {'state': 'FAILED',\n",
       "    'message': 'Index creation failed. Check failure in: href=\"#joblist/pipelines/69c682e0-9c28-4946-b3cf-a27a65b5f757/updates/21e39675-9441-46ce-ad04-db87297cd3ae\"'}},\n",
       "  {'name': 'vs_catalog.kbricks.barnaby',\n",
       "   'index_definition': {'name': 'vs_catalog.kbricks.barnaby',\n",
       "    'spec': {'continuous': {},\n",
       "     'src_table': 'kbricks.models.barnaby_gold',\n",
       "     'dest_index': 'vs_catalog.kbricks.barnaby',\n",
       "     'primary_key': 'uri',\n",
       "     'vector_index': {'column': 'content'}}},\n",
       "   'index_status': {'state': 'READY',\n",
       "    'message': 'Index creation succeeded using Delta Live Tables: href=\"#joblist/pipelines/44108f56-5d28-472d-b4d5-78739e4d5d5d/updates/2564cf05-aa5f-4325-839f-772c5798086b\"',\n",
       "    'indexed_row_count': 655}},\n",
       "  {'name': 'vs_catalog.quant.quant_qna_index',\n",
       "   'index_definition': {'name': 'vs_catalog.quant.quant_qna_index',\n",
       "    'spec': {'continuous': {},\n",
       "     'src_table': 'nuwan.quant.quant_training_dataset',\n",
       "     'dest_index': 'vs_catalog.quant.quant_qna_index',\n",
       "     'primary_key': 'source',\n",
       "     'vector_index': {'column': 'text',\n",
       "      'embedding_model_endpoint_name': 'e5-small-v2'}}},\n",
       "   'index_status': {'state': 'READY',\n",
       "    'message': 'Index creation succeeded using Delta Live Tables: href=\"#joblist/pipelines/c1288f91-7e68-45cd-9495-7b129cb7a400/updates/c43c3c62-0efc-4272-afc8-b4302de851e4\"',\n",
       "    'indexed_row_count': 993}},\n",
       "  {'name': 'vs_catalog.vs_schema.structuredrag-table-index',\n",
       "   'index_definition': {'name': 'vs_catalog.vs_schema.structuredrag-table-index',\n",
       "    'spec': {'continuous': {},\n",
       "     'src_table': 'structured_rag.structured_rag_db.table_descriptions',\n",
       "     'dest_index': 'vs_catalog.vs_schema.structuredrag-table-index',\n",
       "     'primary_key': 'ids',\n",
       "     'vector_index': {'column': 'table_descriptions',\n",
       "      'embedding_model_endpoint_name': 'all-MiniLM-L6-v2-avi'}}},\n",
       "   'index_status': {'state': 'READY',\n",
       "    'message': 'Index creation succeeded using Delta Live Tables: href=\"#joblist/pipelines/4e984a8a-8b67-4a29-ad6c-a1abe129fcb1/updates/9fcc44ad-31b0-40a1-8cf3-21e739771f24\"',\n",
       "    'indexed_row_count': 7}}]}"
      ]
     },
     "execution_count": 17,
     "metadata": {},
     "output_type": "execute_result"
    }
   ],
   "source": [
    "index = client.list_indexes(\"vs_catalog\")\n",
    "index"
   ]
  },
  {
   "cell_type": "code",
   "execution_count": 0,
   "metadata": {
    "application/vnd.databricks.v1+cell": {
     "cellMetadata": {
      "byteLimit": 2048000,
      "rowLimit": 10000
     },
     "inputWidgets": {},
     "nuid": "2c78949e-e6b1-4509-b3cc-544dc9f146a5",
     "showTitle": false,
     "title": ""
    }
   },
   "outputs": [
    {
     "output_type": "execute_result",
     "data": {
      "text/plain": [
       "{'name': 'vs_catalog.vs_schema.structuredrag-table-index',\n",
       " 'spec': {'continuous': {},\n",
       "  'src_table': 'structured_rag.structured_rag_db.table_descriptions',\n",
       "  'dest_index': 'vs_catalog.vs_schema.structuredrag-table-index',\n",
       "  'primary_key': 'ids',\n",
       "  'vector_index': {'column': 'table_descriptions',\n",
       "   'embedding_model_endpoint_name': 'all-MiniLM-L6-v2-avi'}},\n",
       " 'index_status': {'state': 'READY',\n",
       "  'message': 'Index creation succeeded using Delta Live Tables: href=\"#joblist/pipelines/4e984a8a-8b67-4a29-ad6c-a1abe129fcb1/updates/9fcc44ad-31b0-40a1-8cf3-21e739771f24\"',\n",
       "  'indexed_row_count': 7}}"
      ]
     },
     "execution_count": 18,
     "metadata": {},
     "output_type": "execute_result"
    }
   ],
   "source": [
    "client.get_index('vs_catalog.vs_schema.structuredrag-table-index')"
   ]
  },
  {
   "cell_type": "code",
   "execution_count": 0,
   "metadata": {
    "application/vnd.databricks.v1+cell": {
     "cellMetadata": {
      "byteLimit": 2048000,
      "rowLimit": 10000
     },
     "inputWidgets": {},
     "nuid": "89ac84f5-f177-4308-873c-7b15f499d7c1",
     "showTitle": false,
     "title": ""
    }
   },
   "outputs": [
    {
     "output_type": "execute_result",
     "data": {
      "text/plain": [
       "['2',\n",
       " \"Table 'match' has the following columns:\\n- Column 'id' with data type 'bigint'\\n- Column 'country_id' with data type 'bigint'\\n- Column 'league_id' with data type 'bigint'\\n- Column 'season' with data type 'string'\\n- Column 'stage' with data type 'bigint'\\n- Column 'date' with data type 'string'\\n- Column 'match_api_id' with data type 'bigint'\\n- Column 'home_team_api_id' with data type 'bigint'\\n- Column 'away_team_api_id' with data type 'bigint'\\n- Column 'home_team_goal' with data type 'bigint'\\n- Column 'away_team_goal' with data type 'bigint'\\n- Column 'home_player_X1' with data type 'double'\\n- Column 'home_player_X2' with data type 'double'\\n- Column 'home_player_X3' with data type 'double'\\n- Column 'home_player_X4' with data type 'double'\\n- Column 'home_player_X5' with data type 'double'\\n- Column 'home_player_X6' with data type 'double'\\n- Column 'home_player_X7' with data type 'double'\\n- Column 'home_player_X8' with data type 'double'\\n- Column 'home_player_X9' with data type 'double'\\n- Column 'home_player_X10' with data type 'double'\\n- Column 'home_player_X11' with data type 'double'\\n- Column 'away_player_X1' with data type 'double'\\n- Column 'away_player_X2' with data type 'double'\\n- Column 'away_player_X3' with data type 'double'\\n- Column 'away_player_X4' with data type 'double'\\n- Column 'away_player_X5' with data type 'double'\\n- Column 'away_player_X6' with data type 'double'\\n- Column 'away_player_X7' with data type 'double'\\n- Column 'away_player_X8' with data type 'double'\\n- Column 'away_player_X9' with data type 'double'\\n- Column 'away_player_X10' with data type 'double'\\n- Column 'away_player_X11' with data type 'double'\\n- Column 'home_player_Y1' with data type 'double'\\n- Column 'home_player_Y2' with data type 'double'\\n- Column 'home_player_Y3' with data type 'double'\\n- Column 'home_player_Y4' with data type 'double'\\n- Column 'home_player_Y5' with data type 'double'\\n- Column 'home_player_Y6' with data type 'double'\\n- Column 'home_player_Y7' with data type 'double'\\n- Column 'home_player_Y8' with data type 'double'\\n- Column 'home_player_Y9' with data type 'double'\\n- Column 'home_player_Y10' with data type 'double'\\n- Column 'home_player_Y11' with data type 'double'\\n- Column 'away_player_Y1' with data type 'double'\\n- Column 'away_player_Y2' with data type 'double'\\n- Column 'away_player_Y3' with data type 'double'\\n- Column 'away_player_Y4' with data type 'double'\\n- Column 'away_player_Y5' with data type 'double'\\n- Column 'away_player_Y6' with data type 'double'\\n- Column 'away_player_Y7' with data type 'double'\\n- Column 'away_player_Y8' with data type 'double'\\n- Column 'away_player_Y9' with data type 'double'\\n- Column 'away_player_Y10' with data type 'double'\\n- Column 'away_player_Y11' with data type 'double'\\n- Column 'home_player_1' with data type 'double'\\n- Column 'home_player_2' with data type 'double'\\n- Column 'home_player_3' with data type 'double'\\n- Column 'home_player_4' with data type 'double'\\n- Column 'home_player_5' with data type 'double'\\n- Column 'home_player_6' with data type 'double'\\n- Column 'home_player_7' with data type 'double'\\n- Column 'home_player_8' with data type 'double'\\n- Column 'home_player_9' with data type 'double'\\n- Column 'home_player_10' with data type 'double'\\n- Column 'home_player_11' with data type 'double'\\n- Column 'away_player_1' with data type 'double'\\n- Column 'away_player_2' with data type 'double'\\n- Column 'away_player_3' with data type 'double'\\n- Column 'away_player_4' with data type 'double'\\n- Column 'away_player_5' with data type 'double'\\n- Column 'away_player_6' with data type 'double'\\n- Column 'away_player_7' with data type 'double'\\n- Column 'away_player_8' with data type 'double'\\n- Column 'away_player_9' with data type 'double'\\n- Column 'away_player_10' with data type 'double'\\n- Column 'away_player_11' with data type 'double'\\n- Column 'goal' with data type 'string'\\n- Column 'shoton' with data type 'string'\\n- Column 'shotoff' with data type 'string'\\n- Column 'foulcommit' with data type 'string'\\n- Column 'card' with data type 'string'\\n- Column 'cross' with data type 'string'\\n- Column 'corner' with data type 'string'\\n- Column 'possession' with data type 'string'\\n- Column 'B365H' with data type 'double'\\n- Column 'B365D' with data type 'double'\\n- Column 'B365A' with data type 'double'\\n- Column 'BWH' with data type 'double'\\n- Column 'BWD' with data type 'double'\\n- Column 'BWA' with data type 'double'\\n- Column 'IWH' with data type 'double'\\n- Column 'IWD' with data type 'double'\\n- Column 'IWA' with data type 'double'\\n- Column 'LBH' with data type 'double'\\n- Column 'LBD' with data type 'double'\\n- Column 'LBA' with data type 'double'\\n- Column 'PSH' with data type 'double'\\n- Column 'PSD' with data type 'double'\\n- Column 'PSA' with data type 'double'\\n- Column 'WHH' with data type 'double'\\n- Column 'WHD' with data type 'double'\\n- Column 'WHA' with data type 'double'\\n- Column 'SJH' with data type 'double'\\n- Column 'SJD' with data type 'double'\\n- Column 'SJA' with data type 'double'\\n- Column 'VCH' with data type 'double'\\n- Column 'VCD' with data type 'double'\\n- Column 'VCA' with data type 'double'\\n- Column 'GBH' with data type 'double'\\n- Column 'GBD' with data type 'double'\\n- Column 'GBA' with data type 'double'\\n- Column 'BSH' with data type 'double'\\n- Column 'BSD' with data type 'double'\\n- Column 'BSA' with data type 'double'\",\n",
       " 0.47068676]"
      ]
     },
     "execution_count": 31,
     "metadata": {},
     "output_type": "execute_result"
    }
   ],
   "source": [
    "results = client.similarity_search(\n",
    "  index_name = \"vs_catalog.vs_schema.structuredrag-table-index\",\n",
    "  query_text = \"Write a SQL query to  find the number of soccer players\",\n",
    "  columns = [\"ids\", \"table_descriptions\"], # columns to return\n",
    "  num_results = 2)\n",
    "\n",
    "results['result']['data_array'][0]"
   ]
  },
  {
   "cell_type": "code",
   "execution_count": 0,
   "metadata": {
    "application/vnd.databricks.v1+cell": {
     "cellMetadata": {
      "byteLimit": 2048000,
      "rowLimit": 10000
     },
     "inputWidgets": {},
     "nuid": "4d4a6e31-746d-48d3-90df-fc84e57a22ed",
     "showTitle": false,
     "title": ""
    }
   },
   "outputs": [
    {
     "output_type": "stream",
     "name": "stdout",
     "output_type": "stream",
     "text": [
      "Table 'match' has the following columns:\n- Column 'id' with data type 'bigint'\n- Column 'country_id' with data type 'bigint'\n- Column 'league_id' with data type 'bigint'\n- Column 'season' with data type 'string'\n- Column 'stage' with data type 'bigint'\n- Column 'date' with data type 'string'\n- Column 'match_api_id' with data type 'bigint'\n- Column 'home_team_api_id' with data type 'bigint'\n- Column 'away_team_api_id' with data type 'bigint'\n- Column 'home_team_goal' with data type 'bigint'\n- Column 'away_team_goal' with data type 'bigint'\n- Column 'home_player_X1' with data type 'double'\n- Column 'home_player_X2' with data type 'double'\n- Column 'home_player_X3' with data type 'double'\n- Column 'home_player_X4' with data type 'double'\n- Column 'home_player_X5' with data type 'double'\n- Column 'home_player_X6' with data type 'double'\n- Column 'home_player_X7' with data type 'double'\n- Column 'home_player_X8' with data type 'double'\n- Column 'home_player_X9' with data type 'double'\n- Column 'home_player_X10' with data type 'double'\n- Column 'home_player_X11' with data type 'double'\n- Column 'away_player_X1' with data type 'double'\n- Column 'away_player_X2' with data type 'double'\n- Column 'away_player_X3' with data type 'double'\n- Column 'away_player_X4' with data type 'double'\n- Column 'away_player_X5' with data type 'double'\n- Column 'away_player_X6' with data type 'double'\n- Column 'away_player_X7' with data type 'double'\n- Column 'away_player_X8' with data type 'double'\n- Column 'away_player_X9' with data type 'double'\n- Column 'away_player_X10' with data type 'double'\n- Column 'away_player_X11' with data type 'double'\n- Column 'home_player_Y1' with data type 'double'\n- Column 'home_player_Y2' with data type 'double'\n- Column 'home_player_Y3' with data type 'double'\n- Column 'home_player_Y4' with data type 'double'\n- Column 'home_player_Y5' with data type 'double'\n- Column 'home_player_Y6' with data type 'double'\n- Column 'home_player_Y7' with data type 'double'\n- Column 'home_player_Y8' with data type 'double'\n- Column 'home_player_Y9' with data type 'double'\n- Column 'home_player_Y10' with data type 'double'\n- Column 'home_player_Y11' with data type 'double'\n- Column 'away_player_Y1' with data type 'double'\n- Column 'away_player_Y2' with data type 'double'\n- Column 'away_player_Y3' with data type 'double'\n- Column 'away_player_Y4' with data type 'double'\n- Column 'away_player_Y5' with data type 'double'\n- Column 'away_player_Y6' with data type 'double'\n- Column 'away_player_Y7' with data type 'double'\n- Column 'away_player_Y8' with data type 'double'\n- Column 'away_player_Y9' with data type 'double'\n- Column 'away_player_Y10' with data type 'double'\n- Column 'away_player_Y11' with data type 'double'\n- Column 'home_player_1' with data type 'double'\n- Column 'home_player_2' with data type 'double'\n- Column 'home_player_3' with data type 'double'\n- Column 'home_player_4' with data type 'double'\n- Column 'home_player_5' with data type 'double'\n- Column 'home_player_6' with data type 'double'\n- Column 'home_player_7' with data type 'double'\n- Column 'home_player_8' with data type 'double'\n- Column 'home_player_9' with data type 'double'\n- Column 'home_player_10' with data type 'double'\n- Column 'home_player_11' with data type 'double'\n- Column 'away_player_1' with data type 'double'\n- Column 'away_player_2' with data type 'double'\n- Column 'away_player_3' with data type 'double'\n- Column 'away_player_4' with data type 'double'\n- Column 'away_player_5' with data type 'double'\n- Column 'away_player_6' with data type 'double'\n- Column 'away_player_7' with data type 'double'\n- Column 'away_player_8' with data type 'double'\n- Column 'away_player_9' with data type 'double'\n- Column 'away_player_10' with data type 'double'\n- Column 'away_player_11' with data type 'double'\n- Column 'goal' with data type 'string'\n- Column 'shoton' with data type 'string'\n- Column 'shotoff' with data type 'string'\n- Column 'foulcommit' with data type 'string'\n- Column 'card' with data type 'string'\n- Column 'cross' with data type 'string'\n- Column 'corner' with data type 'string'\n- Column 'possession' with data type 'string'\n- Column 'B365H' with data type 'double'\n- Column 'B365D' with data type 'double'\n- Column 'B365A' with data type 'double'\n- Column 'BWH' with data type 'double'\n- Column 'BWD' with data type 'double'\n- Column 'BWA' with data type 'double'\n- Column 'IWH' with data type 'double'\n- Column 'IWD' with data type 'double'\n- Column 'IWA' with data type 'double'\n- Column 'LBH' with data type 'double'\n- Column 'LBD' with data type 'double'\n- Column 'LBA' with data type 'double'\n- Column 'PSH' with data type 'double'\n- Column 'PSD' with data type 'double'\n- Column 'PSA' with data type 'double'\n- Column 'WHH' with data type 'double'\n- Column 'WHD' with data type 'double'\n- Column 'WHA' with data type 'double'\n- Column 'SJH' with data type 'double'\n- Column 'SJD' with data type 'double'\n- Column 'SJA' with data type 'double'\n- Column 'VCH' with data type 'double'\n- Column 'VCD' with data type 'double'\n- Column 'VCA' with data type 'double'\n- Column 'GBH' with data type 'double'\n- Column 'GBD' with data type 'double'\n- Column 'GBA' with data type 'double'\n- Column 'BSH' with data type 'double'\n- Column 'BSD' with data type 'double'\n- Column 'BSA' with data type 'double' \n Table 'player' has the following columns:\n- Column 'id' with data type 'bigint'\n- Column 'player_api_id' with data type 'bigint'\n- Column 'player_name' with data type 'string'\n- Column 'player_fifa_api_id' with data type 'bigint'\n- Column 'birthday' with data type 'string'\n- Column 'height' with data type 'double'\n- Column 'weight' with data type 'bigint'\n"
     ]
    }
   ],
   "source": [
    "context = results['result']['data_array'][0][1]+ ' \\n '+results['result']['data_array'][1][1]\n",
    "print(context)\n"
   ]
  },
  {
   "cell_type": "code",
   "execution_count": 0,
   "metadata": {
    "application/vnd.databricks.v1+cell": {
     "cellMetadata": {
      "byteLimit": 2048000,
      "rowLimit": 10000
     },
     "inputWidgets": {},
     "nuid": "7d28f610-77c4-428f-93e4-5adf38e69e9e",
     "showTitle": false,
     "title": ""
    }
   },
   "outputs": [],
   "source": [
    "def fill_prompt(context: str, question: str) -> str:\n",
    "    template = f\"\"\"[INST] <<SYS>>\n",
    "You are an AI data analyst, helping business users by generating SQL queries based on their questions asked in English. \n",
    "\n",
    "Some information about possibly relevant tables will be provided to you, but you may or may not need all the tables provided for the SQL query.\n",
    "\n",
    "Ensure the SQL queries you generate are accurate to the best of your ability\n",
    "\n",
    "Please only print out the SQL query, nothing else\n",
    "\n",
    "<</SYS>>\n",
    "\n",
    "{context}\n",
    "\n",
    "{question} [/INST]\n",
    "\"\"\"\n",
    "    return template"
   ]
  },
  {
   "cell_type": "code",
   "execution_count": 0,
   "metadata": {
    "application/vnd.databricks.v1+cell": {
     "cellMetadata": {
      "byteLimit": 2048000,
      "rowLimit": 10000
     },
     "inputWidgets": {},
     "nuid": "adb22ab5-b616-465f-9950-676c5c7899cc",
     "showTitle": false,
     "title": ""
    }
   },
   "outputs": [],
   "source": [
    "question  = 'What is the number of soccer players?'"
   ]
  },
  {
   "cell_type": "code",
   "execution_count": 0,
   "metadata": {
    "application/vnd.databricks.v1+cell": {
     "cellMetadata": {
      "byteLimit": 2048000,
      "rowLimit": 10000
     },
     "inputWidgets": {},
     "nuid": "e1391198-e430-4065-8640-0a9fa07565a1",
     "showTitle": false,
     "title": ""
    }
   },
   "outputs": [
    {
     "output_type": "execute_result",
     "data": {
      "text/plain": [
       "\"[INST] <<SYS>>\\nYou are an AI data analyst, helping business users by generating SQL queries based on their questions asked in English. \\n\\nSome information about possibly relevant tables will be provided to you, but you may or may not need all the tables provided for the SQL query.\\n\\nEnsure the SQL queries you generate are accurate to the best of your ability\\n\\nPlease only print out the SQL query, nothing else\\n\\n<</SYS>>\\n\\nTable 'match' has the following columns:\\n- Column 'id' with data type 'bigint'\\n- Column 'country_id' with data type 'bigint'\\n- Column 'league_id' with data type 'bigint'\\n- Column 'season' with data type 'string'\\n- Column 'stage' with data type 'bigint'\\n- Column 'date' with data type 'string'\\n- Column 'match_api_id' with data type 'bigint'\\n- Column 'home_team_api_id' with data type 'bigint'\\n- Column 'away_team_api_id' with data type 'bigint'\\n- Column 'home_team_goal' with data type 'bigint'\\n- Column 'away_team_goal' with data type 'bigint'\\n- Column 'home_player_X1' with data type 'double'\\n- Column 'home_player_X2' with data type 'double'\\n- Column 'home_player_X3' with data type 'double'\\n- Column 'home_player_X4' with data type 'double'\\n- Column 'home_player_X5' with data type 'double'\\n- Column 'home_player_X6' with data type 'double'\\n- Column 'home_player_X7' with data type 'double'\\n- Column 'home_player_X8' with data type 'double'\\n- Column 'home_player_X9' with data type 'double'\\n- Column 'home_player_X10' with data type 'double'\\n- Column 'home_player_X11' with data type 'double'\\n- Column 'away_player_X1' with data type 'double'\\n- Column 'away_player_X2' with data type 'double'\\n- Column 'away_player_X3' with data type 'double'\\n- Column 'away_player_X4' with data type 'double'\\n- Column 'away_player_X5' with data type 'double'\\n- Column 'away_player_X6' with data type 'double'\\n- Column 'away_player_X7' with data type 'double'\\n- Column 'away_player_X8' with data type 'double'\\n- Column 'away_player_X9' with data type 'double'\\n- Column 'away_player_X10' with data type 'double'\\n- Column 'away_player_X11' with data type 'double'\\n- Column 'home_player_Y1' with data type 'double'\\n- Column 'home_player_Y2' with data type 'double'\\n- Column 'home_player_Y3' with data type 'double'\\n- Column 'home_player_Y4' with data type 'double'\\n- Column 'home_player_Y5' with data type 'double'\\n- Column 'home_player_Y6' with data type 'double'\\n- Column 'home_player_Y7' with data type 'double'\\n- Column 'home_player_Y8' with data type 'double'\\n- Column 'home_player_Y9' with data type 'double'\\n- Column 'home_player_Y10' with data type 'double'\\n- Column 'home_player_Y11' with data type 'double'\\n- Column 'away_player_Y1' with data type 'double'\\n- Column 'away_player_Y2' with data type 'double'\\n- Column 'away_player_Y3' with data type 'double'\\n- Column 'away_player_Y4' with data type 'double'\\n- Column 'away_player_Y5' with data type 'double'\\n- Column 'away_player_Y6' with data type 'double'\\n- Column 'away_player_Y7' with data type 'double'\\n- Column 'away_player_Y8' with data type 'double'\\n- Column 'away_player_Y9' with data type 'double'\\n- Column 'away_player_Y10' with data type 'double'\\n- Column 'away_player_Y11' with data type 'double'\\n- Column 'home_player_1' with data type 'double'\\n- Column 'home_player_2' with data type 'double'\\n- Column 'home_player_3' with data type 'double'\\n- Column 'home_player_4' with data type 'double'\\n- Column 'home_player_5' with data type 'double'\\n- Column 'home_player_6' with data type 'double'\\n- Column 'home_player_7' with data type 'double'\\n- Column 'home_player_8' with data type 'double'\\n- Column 'home_player_9' with data type 'double'\\n- Column 'home_player_10' with data type 'double'\\n- Column 'home_player_11' with data type 'double'\\n- Column 'away_player_1' with data type 'double'\\n- Column 'away_player_2' with data type 'double'\\n- Column 'away_player_3' with data type 'double'\\n- Column 'away_player_4' with data type 'double'\\n- Column 'away_player_5' with data type 'double'\\n- Column 'away_player_6' with data type 'double'\\n- Column 'away_player_7' with data type 'double'\\n- Column 'away_player_8' with data type 'double'\\n- Column 'away_player_9' with data type 'double'\\n- Column 'away_player_10' with data type 'double'\\n- Column 'away_player_11' with data type 'double'\\n- Column 'goal' with data type 'string'\\n- Column 'shoton' with data type 'string'\\n- Column 'shotoff' with data type 'string'\\n- Column 'foulcommit' with data type 'string'\\n- Column 'card' with data type 'string'\\n- Column 'cross' with data type 'string'\\n- Column 'corner' with data type 'string'\\n- Column 'possession' with data type 'string'\\n- Column 'B365H' with data type 'double'\\n- Column 'B365D' with data type 'double'\\n- Column 'B365A' with data type 'double'\\n- Column 'BWH' with data type 'double'\\n- Column 'BWD' with data type 'double'\\n- Column 'BWA' with data type 'double'\\n- Column 'IWH' with data type 'double'\\n- Column 'IWD' with data type 'double'\\n- Column 'IWA' with data type 'double'\\n- Column 'LBH' with data type 'double'\\n- Column 'LBD' with data type 'double'\\n- Column 'LBA' with data type 'double'\\n- Column 'PSH' with data type 'double'\\n- Column 'PSD' with data type 'double'\\n- Column 'PSA' with data type 'double'\\n- Column 'WHH' with data type 'double'\\n- Column 'WHD' with data type 'double'\\n- Column 'WHA' with data type 'double'\\n- Column 'SJH' with data type 'double'\\n- Column 'SJD' with data type 'double'\\n- Column 'SJA' with data type 'double'\\n- Column 'VCH' with data type 'double'\\n- Column 'VCD' with data type 'double'\\n- Column 'VCA' with data type 'double'\\n- Column 'GBH' with data type 'double'\\n- Column 'GBD' with data type 'double'\\n- Column 'GBA' with data type 'double'\\n- Column 'BSH' with data type 'double'\\n- Column 'BSD' with data type 'double'\\n- Column 'BSA' with data type 'double' \\n Table 'player' has the following columns:\\n- Column 'id' with data type 'bigint'\\n- Column 'player_api_id' with data type 'bigint'\\n- Column 'player_name' with data type 'string'\\n- Column 'player_fifa_api_id' with data type 'bigint'\\n- Column 'birthday' with data type 'string'\\n- Column 'height' with data type 'double'\\n- Column 'weight' with data type 'bigint'\\n\\nWhat is the number of soccer players? [/INST]\\n\""
      ]
     },
     "execution_count": 42,
     "metadata": {},
     "output_type": "execute_result"
    }
   ],
   "source": [
    "prompt = fill_prompt(context, question)\n",
    "prompt"
   ]
  },
  {
   "cell_type": "code",
   "execution_count": 0,
   "metadata": {
    "application/vnd.databricks.v1+cell": {
     "cellMetadata": {
      "byteLimit": 2048000,
      "rowLimit": 10000
     },
     "inputWidgets": {},
     "nuid": "1d954f80-2ba7-4fcf-b162-e36308e7032d",
     "showTitle": false,
     "title": ""
    }
   },
   "outputs": [],
   "source": [
    "import mlflow.gateway\n",
    "mlflow.gateway.set_gateway_uri(\"databricks\")"
   ]
  },
  {
   "cell_type": "code",
   "execution_count": 0,
   "metadata": {
    "application/vnd.databricks.v1+cell": {
     "cellMetadata": {
      "byteLimit": 2048000,
      "rowLimit": 10000
     },
     "inputWidgets": {},
     "nuid": "9ba3267b-27ed-4c4d-ae89-977588f73127",
     "showTitle": false,
     "title": ""
    }
   },
   "outputs": [
    {
     "output_type": "execute_result",
     "data": {
      "text/plain": [
       "{'candidates': [{'text': \"\\nSELECT COUNT(DISTINCT player_api_id)\\nFROM player;\\n\\nThis query will return the number of unique soccer players in the 'player' table, based on the 'player_api_id' column.\",\n",
       "   'metadata': {}}],\n",
       " 'metadata': {'model': 'llama2-70b-chat', 'route_type': 'llm/v1/completions'}}"
      ]
     },
     "execution_count": 48,
     "metadata": {},
     "output_type": "execute_result"
    }
   ],
   "source": [
    "# Query the completions route using the mlflow client\n",
    "\n",
    "query= mlflow.gateway.query(\n",
    "        route=\"mosaicml-llama2-70b-completions\",\n",
    "        data={\n",
    "            \"prompt\": prompt,\n",
    "            'temperature':0.0\n",
    "        },\n",
    "    )\n",
    "query"
   ]
  },
  {
   "cell_type": "code",
   "execution_count": 0,
   "metadata": {
    "application/vnd.databricks.v1+cell": {
     "cellMetadata": {
      "byteLimit": 2048000,
      "rowLimit": 10000
     },
     "inputWidgets": {},
     "nuid": "cf52ccb5-6c06-43af-9601-d7bde8c71b76",
     "showTitle": false,
     "title": ""
    }
   },
   "outputs": [
    {
     "output_type": "execute_result",
     "data": {
      "text/plain": [
       "' SELECT COUNT(DISTINCT player_api_id) FROM player'"
      ]
     },
     "execution_count": 52,
     "metadata": {},
     "output_type": "execute_result"
    }
   ],
   "source": [
    "query['candidates'][0]['text'].split(';')[0].replace('\\n',' ')"
   ]
  },
  {
   "cell_type": "code",
   "execution_count": 0,
   "metadata": {
    "application/vnd.databricks.v1+cell": {
     "cellMetadata": {
      "byteLimit": 2048000,
      "rowLimit": 10000
     },
     "inputWidgets": {},
     "nuid": "6dedf376-9e60-484e-b474-69ad9db7b2bc",
     "showTitle": false,
     "title": ""
    }
   },
   "outputs": [
    {
     "output_type": "display_data",
     "data": {
      "text/html": [
       "<style scoped>\n",
       "  .table-result-container {\n",
       "    max-height: 300px;\n",
       "    overflow: auto;\n",
       "  }\n",
       "  table, th, td {\n",
       "    border: 1px solid black;\n",
       "    border-collapse: collapse;\n",
       "  }\n",
       "  th, td {\n",
       "    padding: 5px;\n",
       "  }\n",
       "  th {\n",
       "    text-align: left;\n",
       "  }\n",
       "</style><div class='table-result-container'><table class='table-result'><thead style='background-color: white'><tr><th>count(DISTINCT player_api_id)</th></tr></thead><tbody><tr><td>11060</td></tr></tbody></table></div>"
      ]
     },
     "metadata": {
      "application/vnd.databricks.v1+output": {
       "addedWidgets": {},
       "aggData": [],
       "aggError": "",
       "aggOverflow": false,
       "aggSchema": [],
       "aggSeriesLimitReached": false,
       "aggType": "",
       "arguments": {},
       "columnCustomDisplayInfos": {},
       "data": [
        [
         11060
        ]
       ],
       "datasetInfos": [],
       "dbfsResultPath": null,
       "isJsonSchema": true,
       "metadata": {},
       "overflow": false,
       "plotOptions": {
        "customPlotOptions": {},
        "displayType": "table",
        "pivotAggregation": null,
        "pivotColumns": null,
        "xColumns": null,
        "yColumns": null
       },
       "removedWidgets": [],
       "schema": [
        {
         "metadata": "{\"__autoGeneratedAlias\":\"true\"}",
         "name": "count(DISTINCT player_api_id)",
         "type": "\"long\""
        }
       ],
       "type": "table"
      }
     },
     "output_type": "display_data"
    }
   ],
   "source": [
    "display(spark.sql(query['candidates'][0]['text'].split(';')[0].replace('\\n',' ')))"
   ]
  },
  {
   "cell_type": "code",
   "execution_count": 0,
   "metadata": {
    "application/vnd.databricks.v1+cell": {
     "cellMetadata": {},
     "inputWidgets": {},
     "nuid": "2b6eca1d-1906-4217-81f9-db41b3ae4a0f",
     "showTitle": false,
     "title": ""
    }
   },
   "outputs": [],
   "source": []
  }
 ],
 "metadata": {
  "application/vnd.databricks.v1+notebook": {
   "dashboards": [],
   "language": "python",
   "notebookMetadata": {
    "mostRecentlyExecutedCommandWithImplicitDF": {
     "commandId": 462438298809903,
     "dataframes": [
      "_sqldf"
     ]
    },
    "pythonIndentUnit": 2
   },
   "notebookName": "01_Create Vector Index from",
   "widgets": {}
  }
 },
 "nbformat": 4,
 "nbformat_minor": 0
}
